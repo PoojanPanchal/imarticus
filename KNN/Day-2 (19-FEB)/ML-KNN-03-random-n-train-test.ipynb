{
 "cells": [
  {
   "cell_type": "code",
   "execution_count": 1,
   "metadata": {
    "collapsed": true
   },
   "outputs": [],
   "source": [
    "import random\n",
    "from math import *\n",
    "import operator\n",
    "import pandas as pd\n",
    "import numpy as np\n",
    "import matplotlib\n",
    "import matplotlib.pyplot as plt\n",
    "%matplotlib inline \n",
    "\n",
    "import seaborn as sns\n",
    "sns.set(style=\"white\", color_codes=True)"
   ]
  },
  {
   "cell_type": "code",
   "execution_count": 2,
   "metadata": {
    "collapsed": true
   },
   "outputs": [],
   "source": [
    "location = r\"E:\\\\MYLEARN\\\\2-ANALYTICS-DataScience\\\\datasets\\\\iris.csv\""
   ]
  },
  {
   "cell_type": "code",
   "execution_count": 3,
   "metadata": {
    "collapsed": true
   },
   "outputs": [],
   "source": [
    "# load the training data from iris.txt\n",
    "df_training_iris = pd.read_csv(location)"
   ]
  },
  {
   "cell_type": "code",
   "execution_count": 4,
   "metadata": {},
   "outputs": [
    {
     "data": {
      "text/plain": [
       "(150, 5)"
      ]
     },
     "execution_count": 4,
     "metadata": {},
     "output_type": "execute_result"
    }
   ],
   "source": [
    "df_training_iris.shape"
   ]
  },
  {
   "cell_type": "code",
   "execution_count": 5,
   "metadata": {},
   "outputs": [
    {
     "data": {
      "text/html": [
       "<div>\n",
       "<style>\n",
       "    .dataframe thead tr:only-child th {\n",
       "        text-align: right;\n",
       "    }\n",
       "\n",
       "    .dataframe thead th {\n",
       "        text-align: left;\n",
       "    }\n",
       "\n",
       "    .dataframe tbody tr th {\n",
       "        vertical-align: top;\n",
       "    }\n",
       "</style>\n",
       "<table border=\"1\" class=\"dataframe\">\n",
       "  <thead>\n",
       "    <tr style=\"text-align: right;\">\n",
       "      <th></th>\n",
       "      <th>sepal_length</th>\n",
       "      <th>sepal_width</th>\n",
       "      <th>petal_length</th>\n",
       "      <th>petal_width</th>\n",
       "      <th>class</th>\n",
       "    </tr>\n",
       "  </thead>\n",
       "  <tbody>\n",
       "    <tr>\n",
       "      <th>0</th>\n",
       "      <td>5.1</td>\n",
       "      <td>3.5</td>\n",
       "      <td>1.4</td>\n",
       "      <td>0.2</td>\n",
       "      <td>Iris-setosa</td>\n",
       "    </tr>\n",
       "    <tr>\n",
       "      <th>1</th>\n",
       "      <td>4.9</td>\n",
       "      <td>3.0</td>\n",
       "      <td>1.4</td>\n",
       "      <td>0.2</td>\n",
       "      <td>Iris-setosa</td>\n",
       "    </tr>\n",
       "    <tr>\n",
       "      <th>2</th>\n",
       "      <td>4.7</td>\n",
       "      <td>3.2</td>\n",
       "      <td>1.3</td>\n",
       "      <td>0.2</td>\n",
       "      <td>Iris-setosa</td>\n",
       "    </tr>\n",
       "    <tr>\n",
       "      <th>3</th>\n",
       "      <td>4.6</td>\n",
       "      <td>3.1</td>\n",
       "      <td>1.5</td>\n",
       "      <td>0.2</td>\n",
       "      <td>Iris-setosa</td>\n",
       "    </tr>\n",
       "    <tr>\n",
       "      <th>4</th>\n",
       "      <td>5.0</td>\n",
       "      <td>3.6</td>\n",
       "      <td>1.4</td>\n",
       "      <td>0.2</td>\n",
       "      <td>Iris-setosa</td>\n",
       "    </tr>\n",
       "  </tbody>\n",
       "</table>\n",
       "</div>"
      ],
      "text/plain": [
       "   sepal_length  sepal_width  petal_length  petal_width        class\n",
       "0           5.1          3.5           1.4          0.2  Iris-setosa\n",
       "1           4.9          3.0           1.4          0.2  Iris-setosa\n",
       "2           4.7          3.2           1.3          0.2  Iris-setosa\n",
       "3           4.6          3.1           1.5          0.2  Iris-setosa\n",
       "4           5.0          3.6           1.4          0.2  Iris-setosa"
      ]
     },
     "execution_count": 5,
     "metadata": {},
     "output_type": "execute_result"
    }
   ],
   "source": [
    "df_training_iris.head()"
   ]
  },
  {
   "cell_type": "code",
   "execution_count": 9,
   "metadata": {
    "collapsed": true
   },
   "outputs": [],
   "source": [
    "# Extract random n samples as test from the training file\n",
    "n = 30\n",
    "index_list = random.sample(range(0, df_training_iris.shape[0]-1), n)"
   ]
  },
  {
   "cell_type": "code",
   "execution_count": 7,
   "metadata": {},
   "outputs": [
    {
     "data": {
      "text/plain": [
       "149"
      ]
     },
     "execution_count": 7,
     "metadata": {},
     "output_type": "execute_result"
    }
   ],
   "source": [
    "df_training_iris.shape[0] -1"
   ]
  },
  {
   "cell_type": "code",
   "execution_count": 10,
   "metadata": {},
   "outputs": [
    {
     "data": {
      "text/plain": [
       "[74,\n",
       " 122,\n",
       " 55,\n",
       " 82,\n",
       " 15,\n",
       " 65,\n",
       " 97,\n",
       " 67,\n",
       " 16,\n",
       " 3,\n",
       " 91,\n",
       " 114,\n",
       " 129,\n",
       " 92,\n",
       " 62,\n",
       " 109,\n",
       " 98,\n",
       " 115,\n",
       " 95,\n",
       " 77,\n",
       " 90,\n",
       " 104,\n",
       " 101,\n",
       " 110,\n",
       " 4,\n",
       " 39,\n",
       " 36,\n",
       " 137,\n",
       " 144,\n",
       " 28]"
      ]
     },
     "execution_count": 10,
     "metadata": {},
     "output_type": "execute_result"
    }
   ],
   "source": [
    "random.sample(range(0, 149), 30)"
   ]
  },
  {
   "cell_type": "code",
   "execution_count": 27,
   "metadata": {},
   "outputs": [
    {
     "data": {
      "text/plain": [
       "range(0, 149)"
      ]
     },
     "execution_count": 27,
     "metadata": {},
     "output_type": "execute_result"
    }
   ],
   "source": [
    "range(0, 149)"
   ]
  },
  {
   "cell_type": "code",
   "execution_count": 29,
   "metadata": {
    "collapsed": true
   },
   "outputs": [],
   "source": [
    "# index_list"
   ]
  },
  {
   "cell_type": "code",
   "execution_count": 12,
   "metadata": {
    "collapsed": true
   },
   "outputs": [],
   "source": [
    "# initialize a test dataframe\n",
    "df_test_iris = pd.DataFrame()"
   ]
  },
  {
   "cell_type": "code",
   "execution_count": 13,
   "metadata": {},
   "outputs": [
    {
     "data": {
      "text/plain": [
       "[11,\n",
       " 120,\n",
       " 90,\n",
       " 88,\n",
       " 59,\n",
       " 47,\n",
       " 9,\n",
       " 13,\n",
       " 142,\n",
       " 132,\n",
       " 40,\n",
       " 67,\n",
       " 62,\n",
       " 48,\n",
       " 56,\n",
       " 12,\n",
       " 52,\n",
       " 26,\n",
       " 80,\n",
       " 130,\n",
       " 112,\n",
       " 24,\n",
       " 4,\n",
       " 125,\n",
       " 100,\n",
       " 136,\n",
       " 138,\n",
       " 53,\n",
       " 85,\n",
       " 50]"
      ]
     },
     "execution_count": 13,
     "metadata": {},
     "output_type": "execute_result"
    }
   ],
   "source": [
    "index_list"
   ]
  },
  {
   "cell_type": "code",
   "execution_count": 14,
   "metadata": {
    "collapsed": true
   },
   "outputs": [],
   "source": [
    "# copy the n training samples as test & drop the rows from the training df\n",
    "for elem in index_list:\n",
    "    df_test_iris = df_test_iris.append(df_training_iris.iloc[elem: elem+1])\n",
    "\n",
    "# drop the rows from the training set (which r now in test dataframe)\n",
    "df_training_iris.drop(df_training_iris.index[index_list], inplace=True)     "
   ]
  },
  {
   "cell_type": "code",
   "execution_count": 15,
   "metadata": {},
   "outputs": [
    {
     "data": {
      "text/plain": [
       "(30, 5)"
      ]
     },
     "execution_count": 15,
     "metadata": {},
     "output_type": "execute_result"
    }
   ],
   "source": [
    "df_test_iris.shape"
   ]
  },
  {
   "cell_type": "code",
   "execution_count": 16,
   "metadata": {},
   "outputs": [
    {
     "name": "stdout",
     "output_type": "stream",
     "text": [
      "(120, 5)\n",
      "(30, 5)\n"
     ]
    }
   ],
   "source": [
    "df_training_iris = df_training_iris.reset_index(drop=True)\n",
    "df_test_iris     = df_test_iris.reset_index(drop=True)\n",
    "\n",
    "print(df_training_iris.shape)\n",
    "print(df_test_iris.shape)"
   ]
  },
  {
   "cell_type": "code",
   "execution_count": 17,
   "metadata": {
    "collapsed": true
   },
   "outputs": [],
   "source": [
    "# add a column for 'pred_class'\n",
    "df_test_iris['pred_class'] = ''"
   ]
  },
  {
   "cell_type": "code",
   "execution_count": 18,
   "metadata": {
    "scrolled": true
   },
   "outputs": [
    {
     "data": {
      "text/html": [
       "<div>\n",
       "<style>\n",
       "    .dataframe thead tr:only-child th {\n",
       "        text-align: right;\n",
       "    }\n",
       "\n",
       "    .dataframe thead th {\n",
       "        text-align: left;\n",
       "    }\n",
       "\n",
       "    .dataframe tbody tr th {\n",
       "        vertical-align: top;\n",
       "    }\n",
       "</style>\n",
       "<table border=\"1\" class=\"dataframe\">\n",
       "  <thead>\n",
       "    <tr style=\"text-align: right;\">\n",
       "      <th></th>\n",
       "      <th>sepal_length</th>\n",
       "      <th>sepal_width</th>\n",
       "      <th>petal_length</th>\n",
       "      <th>petal_width</th>\n",
       "      <th>class</th>\n",
       "      <th>pred_class</th>\n",
       "    </tr>\n",
       "  </thead>\n",
       "  <tbody>\n",
       "    <tr>\n",
       "      <th>0</th>\n",
       "      <td>4.8</td>\n",
       "      <td>3.4</td>\n",
       "      <td>1.6</td>\n",
       "      <td>0.2</td>\n",
       "      <td>Iris-setosa</td>\n",
       "      <td></td>\n",
       "    </tr>\n",
       "    <tr>\n",
       "      <th>1</th>\n",
       "      <td>6.9</td>\n",
       "      <td>3.2</td>\n",
       "      <td>5.7</td>\n",
       "      <td>2.3</td>\n",
       "      <td>Iris-virginica</td>\n",
       "      <td></td>\n",
       "    </tr>\n",
       "    <tr>\n",
       "      <th>2</th>\n",
       "      <td>5.5</td>\n",
       "      <td>2.6</td>\n",
       "      <td>4.4</td>\n",
       "      <td>1.2</td>\n",
       "      <td>Iris-versicolor</td>\n",
       "      <td></td>\n",
       "    </tr>\n",
       "    <tr>\n",
       "      <th>3</th>\n",
       "      <td>5.6</td>\n",
       "      <td>3.0</td>\n",
       "      <td>4.1</td>\n",
       "      <td>1.3</td>\n",
       "      <td>Iris-versicolor</td>\n",
       "      <td></td>\n",
       "    </tr>\n",
       "    <tr>\n",
       "      <th>4</th>\n",
       "      <td>5.2</td>\n",
       "      <td>2.7</td>\n",
       "      <td>3.9</td>\n",
       "      <td>1.4</td>\n",
       "      <td>Iris-versicolor</td>\n",
       "      <td></td>\n",
       "    </tr>\n",
       "  </tbody>\n",
       "</table>\n",
       "</div>"
      ],
      "text/plain": [
       "   sepal_length  sepal_width  petal_length  petal_width            class  \\\n",
       "0           4.8          3.4           1.6          0.2      Iris-setosa   \n",
       "1           6.9          3.2           5.7          2.3   Iris-virginica   \n",
       "2           5.5          2.6           4.4          1.2  Iris-versicolor   \n",
       "3           5.6          3.0           4.1          1.3  Iris-versicolor   \n",
       "4           5.2          2.7           3.9          1.4  Iris-versicolor   \n",
       "\n",
       "  pred_class  \n",
       "0             \n",
       "1             \n",
       "2             \n",
       "3             \n",
       "4             "
      ]
     },
     "execution_count": 18,
     "metadata": {},
     "output_type": "execute_result"
    }
   ],
   "source": [
    "df_test_iris.head(5)"
   ]
  },
  {
   "cell_type": "code",
   "execution_count": 37,
   "metadata": {
    "collapsed": true
   },
   "outputs": [],
   "source": [
    "df_training_iris['distance'] = 0\n",
    "\n",
    "# set the value of k number of neighbors to choose\n",
    "k = 5"
   ]
  },
  {
   "cell_type": "code",
   "execution_count": 38,
   "metadata": {
    "collapsed": true
   },
   "outputs": [],
   "source": [
    "# for each test sample\n",
    "for index_test, row_test in df_test_iris.iterrows():\n",
    "\n",
    "    # for each row in the dataframe, calculate the distance\n",
    "    for index, row in df_training_iris.iterrows():\n",
    "        eucDist = sqrt(((float(row_test.sepal_length) - float(row['sepal_length'])) ** 2 +\n",
    "                        (float(row_test.sepal_width) - float(row['sepal_width'])) ** 2 +\n",
    "                        (float(row_test.petal_length) - float(row['petal_length'])) ** 2 +\n",
    "                        (float(row_test.petal_width) - float(row['petal_width'])) ** 2))\n",
    "\n",
    "        df_training_iris.loc[index, 'distance'] = eucDist\n",
    "    \n",
    "    # sort on distance, ascending.\n",
    "    df_training_iris.sort_values('distance', ascending=True, inplace=True)\n",
    "    \n",
    "    # select the first k rows, into a new df\n",
    "    df_training_iris_k = df_training_iris.iloc[0:k, :]\n",
    "    \n",
    "    df_training_iris_k_grouped = df_training_iris_k['class']\n",
    "    \n",
    "    # predicted class\n",
    "    pred_class = df_training_iris_k_grouped.max()  # replace with value_counts()\n",
    "    \n",
    "    # save the predicated class in the test data frame\n",
    "    df_test_iris.at[index_test, 'pred_class'] = pred_class\n",
    "    \n",
    "    "
   ]
  },
  {
   "cell_type": "code",
   "execution_count": 40,
   "metadata": {},
   "outputs": [
    {
     "name": "stdout",
     "output_type": "stream",
     "text": [
      "Random n test, train split, Accuracy          =  96.67 %\n",
      "                           ,num of mismatches =   1\n"
     ]
    }
   ],
   "source": [
    "# find the mismatch count of class predication\n",
    "no_mismatch_class = df_test_iris.loc[~(df_test_iris['pred_class'] == df_test_iris['class'])].shape[0]\n",
    "\n",
    "# accuracy of prediction\n",
    "accuracy_pct = 100-(no_mismatch_class/ df_test_iris.shape[0])*100\n",
    "\n",
    "print('Random n test, train split, Accuracy          = {:6.2f} %'.format(accuracy_pct))\n",
    "print('                           ,num of mismatches = {:3d}'.format(no_mismatch_class))"
   ]
  },
  {
   "cell_type": "code",
   "execution_count": null,
   "metadata": {
    "collapsed": true
   },
   "outputs": [],
   "source": []
  }
 ],
 "metadata": {
  "kernelspec": {
   "display_name": "Python 3",
   "language": "python",
   "name": "python3"
  },
  "language_info": {
   "codemirror_mode": {
    "name": "ipython",
    "version": 3
   },
   "file_extension": ".py",
   "mimetype": "text/x-python",
   "name": "python",
   "nbconvert_exporter": "python",
   "pygments_lexer": "ipython3",
   "version": "3.6.3"
  }
 },
 "nbformat": 4,
 "nbformat_minor": 2
}
